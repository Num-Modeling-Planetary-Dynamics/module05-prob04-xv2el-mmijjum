{
 "cells": [
  {
   "cell_type": "code",
   "execution_count": 485,
   "metadata": {},
   "outputs": [],
   "source": [
    "import numpy as np\n",
    "import matplotlib.pyplot as plt\n",
    "import pandas as pd\n",
    "import os.path\n"
   ]
  },
  {
   "cell_type": "markdown",
   "metadata": {},
   "source": [
    "## Problem 4: \n",
    "- Write a code that converts cartesian coordinate vectors (**r, v**) to orbital elements:\n",
    "    - semimajor axis (a)\n",
    "    - eccentricity (e)\n",
    "    - inclination (I)\n",
    "    - longitude of ascending node ($\\Omega$)\n",
    "    - argument of periapsis ($\\omega$)\n",
    "    - true anomaly (*f*) \n"
   ]
  },
  {
   "cell_type": "code",
   "execution_count": 630,
   "metadata": {},
   "outputs": [],
   "source": [
    "filename = 'id000002-XV' #later cell will use this to assign dataframes for each planet\n",
    "\n",
    "source_path = '/Users/mmijjum/Desktop/third_year/Jupyter_Notebooks/module05-prob04-xv2el-mmijjum/data/module05_data/filename.csv'\n",
    "target_path = source_path.replace(\"/filename.csv\", \"/id000002-XV.csv\", 1) #UPDATE - for reading correct csv INPUTS\n",
    "\n",
    "source_path2 = '/Users/mmijjum/Desktop/third_year/Jupyter_Notebooks/module05-prob04-xv2el-mmijjum/data/filename2.csv'\n",
    "target_path2 = source_path2.replace(\"/filename2.csv\", \"/id000002_EL.csv\", 1) #UPDATE - for saving csv OUTPUTS\n",
    "\n",
    "source_path3 = '/Users/mmijjum/Desktop/third_year/Jupyter_Notebooks/module05-prob04-xv2el-mmijjum/plots/filename3.png'\n",
    "target_path3 = source_path3.replace(\"/filename3.png\", \"/a_vs_t_02.png\", 1) #UPDATE - for saving a vs t plots\n",
    "\n",
    "source_path4 = '/Users/mmijjum/Desktop/third_year/Jupyter_Notebooks/module05-prob04-xv2el-mmijjum/plots/filename4.png'\n",
    "target_path4 = source_path4.replace(\"/filename4.png\", \"/i_vs_t_02.png\", 1) #UPDATE - for saving i vs t plots\n",
    "\n",
    "#Mercury:id000002-XV\n",
    "#Venus:id000003-XV\n",
    "#Earth:id000004-XV\n",
    "#Mercury:id000005-XV\n",
    "#Jupiter:id000006-XV\n",
    "#Saturn:id000007-XV\n",
    "#Uranus:id000008-XV\n",
    "#Neptune:id000009-XV\n",
    "#Pluto:id000010-XV"
   ]
  },
  {
   "cell_type": "code",
   "execution_count": 631,
   "metadata": {},
   "outputs": [],
   "source": [
    "##From here, cell > run all\" "
   ]
  },
  {
   "cell_type": "code",
   "execution_count": 632,
   "metadata": {},
   "outputs": [],
   "source": [
    "df = pd.DataFrame(pd.read_csv(target_path))"
   ]
  },
  {
   "cell_type": "code",
   "execution_count": 633,
   "metadata": {},
   "outputs": [
    {
     "data": {
      "text/plain": [
       "1001"
      ]
     },
     "execution_count": 633,
     "metadata": {},
     "output_type": "execute_result"
    }
   ],
   "source": [
    "x = df['xh']\n",
    "y = df['yh']\n",
    "z = df['zh']\n",
    "\n",
    "vx = df['vxh']\n",
    "vy = df['vyh']\n",
    "vz = df['vz']\n",
    "\n",
    "t = df[' t'] #note, .csv had a space before 't' so had to include this so it knew which header to call.\n",
    "t = t.values.tolist()\n",
    "hvector = []\n",
    "for i in range(len(x)):\n",
    "    rvector = [x[i],y[i],z[i]]\n",
    "    vvector = [vx[i],vy[i],vz[i]]\n",
    "\n",
    "    htemp = np.cross(rvector,vvector)\n",
    "    hvector.append(htemp)\n",
    "\n",
    "h_df = pd.DataFrame(hvector)\n",
    "\n",
    "hx = h_df[0]\n",
    "hy = h_df[1]\n",
    "hz = h_df[2]\n",
    "h = []\n",
    "for i in range(len(hx)):\n",
    "    htemp = np.sqrt(hx[i]**2 + hy[i]**2 + hz[i]**2)\n",
    "    h.append(htemp)\n",
    "len(h)"
   ]
  },
  {
   "cell_type": "code",
   "execution_count": 634,
   "metadata": {},
   "outputs": [],
   "source": [
    "r = []\n",
    "v = []\n",
    "for i in range(len(df)):\n",
    "    rtemp = np.sqrt(x.iloc[i]**2 + y.iloc[i]**2 +z.iloc[i]**2)\n",
    "    vtemp = np.sqrt(vx.iloc[i]**2 + vy.iloc[i]**2 + vz.iloc[i]**2)\n",
    "    r.append(rtemp)\n",
    "    v.append(vtemp)\n",
    "#r\n",
    "#v"
   ]
  },
  {
   "cell_type": "code",
   "execution_count": 635,
   "metadata": {},
   "outputs": [],
   "source": [
    "#Semimajor axis (a)\n",
    "G = 6.67428 * 10**(-11) #m3/kg s2\n",
    "M = 1.9891 * 10**(30) #kg\n",
    "mu = 1\n",
    "a = []\n",
    "\n",
    "for i in range(len(r)):\n",
    "    atemp = ((2/r[i]) - (v[i]**2/mu))**(-1) #eqn 2.134 \n",
    "    a.append(atemp)\n",
    "#a"
   ]
  },
  {
   "cell_type": "code",
   "execution_count": 636,
   "metadata": {},
   "outputs": [],
   "source": [
    "#eccentricity\n",
    "e = []\n",
    "for i in range(len(a)):\n",
    "    etemp = np.sqrt(1 - (h[i]**2/(mu*a[i])))\n",
    "    e.append(etemp)"
   ]
  },
  {
   "cell_type": "code",
   "execution_count": 637,
   "metadata": {},
   "outputs": [
    {
     "data": {
      "text/plain": [
       "array([7.00424252, 6.94480231, 6.88583516, ..., 3.90684354, 3.92440132,\n",
       "       3.94190469])"
      ]
     },
     "execution_count": 637,
     "metadata": {},
     "output_type": "execute_result"
    }
   ],
   "source": [
    "#Inclination\n",
    "inc = []\n",
    "for i in range(len(h)):\n",
    "    inctemp = np.arccos((hz[i]/h[i]))\n",
    "    inc.append(inctemp)\n",
    "inc = np.rad2deg(inc)\n",
    "inc"
   ]
  },
  {
   "cell_type": "code",
   "execution_count": 638,
   "metadata": {},
   "outputs": [],
   "source": [
    "#longitude of ascending node\n",
    "omega = []\n",
    "for i in range(len(hx)):\n",
    "    omegatemp = np.arcsin(hx[i]/h[i] * np.sin(inc[i]))\n",
    "    omega.append(omegatemp)\n",
    "omega = np.rad2deg(omega)"
   ]
  },
  {
   "cell_type": "code",
   "execution_count": 639,
   "metadata": {},
   "outputs": [],
   "source": [
    "#true anomaly (f)\n",
    "f = []\n",
    "for i in range(len(a)):\n",
    "    ftemp = np.arccos((1/e[i]) * ((a[i]*(1-e[i]**2))/r[i]) - 1)\n",
    "    f.append(ftemp)"
   ]
  },
  {
   "cell_type": "code",
   "execution_count": 640,
   "metadata": {},
   "outputs": [],
   "source": [
    "# argument of periapsis\n",
    "w = []\n",
    "for i in range(len(f)):\n",
    "    wtemp = np.arcsin(z.tolist()[i]/r[i]*np.sin(inc[i])) + f[i]\n",
    "    w.append(wtemp)"
   ]
  },
  {
   "cell_type": "code",
   "execution_count": 641,
   "metadata": {},
   "outputs": [
    {
     "data": {
      "text/html": [
       "<div>\n",
       "<style scoped>\n",
       "    .dataframe tbody tr th:only-of-type {\n",
       "        vertical-align: middle;\n",
       "    }\n",
       "\n",
       "    .dataframe tbody tr th {\n",
       "        vertical-align: top;\n",
       "    }\n",
       "\n",
       "    .dataframe thead th {\n",
       "        text-align: right;\n",
       "    }\n",
       "</style>\n",
       "<table border=\"1\" class=\"dataframe\">\n",
       "  <thead>\n",
       "    <tr style=\"text-align: right;\">\n",
       "      <th></th>\n",
       "      <th>t</th>\n",
       "      <th>a</th>\n",
       "      <th>e</th>\n",
       "      <th>inclination</th>\n",
       "      <th>lon_asc_node</th>\n",
       "      <th>arg_peri</th>\n",
       "      <th>true_anom</th>\n",
       "    </tr>\n",
       "  </thead>\n",
       "  <tbody>\n",
       "    <tr>\n",
       "      <th>0</th>\n",
       "      <td>0.0</td>\n",
       "      <td>0.199216</td>\n",
       "      <td>0.999725</td>\n",
       "      <td>7.004243</td>\n",
       "      <td>3.446781</td>\n",
       "      <td>3.038623</td>\n",
       "      <td>3.118121</td>\n",
       "    </tr>\n",
       "    <tr>\n",
       "      <th>1</th>\n",
       "      <td>365250.0</td>\n",
       "      <td>0.195514</td>\n",
       "      <td>0.999719</td>\n",
       "      <td>6.944802</td>\n",
       "      <td>3.117013</td>\n",
       "      <td>3.046915</td>\n",
       "      <td>3.117900</td>\n",
       "    </tr>\n",
       "    <tr>\n",
       "      <th>2</th>\n",
       "      <td>730500.0</td>\n",
       "      <td>0.191720</td>\n",
       "      <td>0.999714</td>\n",
       "      <td>6.885835</td>\n",
       "      <td>2.791072</td>\n",
       "      <td>3.056231</td>\n",
       "      <td>3.117668</td>\n",
       "    </tr>\n",
       "    <tr>\n",
       "      <th>3</th>\n",
       "      <td>1095750.0</td>\n",
       "      <td>0.187854</td>\n",
       "      <td>0.999708</td>\n",
       "      <td>6.827553</td>\n",
       "      <td>2.471759</td>\n",
       "      <td>3.066181</td>\n",
       "      <td>3.117424</td>\n",
       "    </tr>\n",
       "    <tr>\n",
       "      <th>4</th>\n",
       "      <td>1461000.0</td>\n",
       "      <td>0.183956</td>\n",
       "      <td>0.999702</td>\n",
       "      <td>6.770065</td>\n",
       "      <td>2.161607</td>\n",
       "      <td>3.076347</td>\n",
       "      <td>3.117170</td>\n",
       "    </tr>\n",
       "    <tr>\n",
       "      <th>...</th>\n",
       "      <td>...</td>\n",
       "      <td>...</td>\n",
       "      <td>...</td>\n",
       "      <td>...</td>\n",
       "      <td>...</td>\n",
       "      <td>...</td>\n",
       "      <td>...</td>\n",
       "    </tr>\n",
       "    <tr>\n",
       "      <th>996</th>\n",
       "      <td>363789000.0</td>\n",
       "      <td>0.164184</td>\n",
       "      <td>0.999663</td>\n",
       "      <td>3.873440</td>\n",
       "      <td>2.056830</td>\n",
       "      <td>3.133826</td>\n",
       "      <td>3.115643</td>\n",
       "    </tr>\n",
       "    <tr>\n",
       "      <th>997</th>\n",
       "      <td>364154250.0</td>\n",
       "      <td>0.166807</td>\n",
       "      <td>0.999669</td>\n",
       "      <td>3.889844</td>\n",
       "      <td>2.152256</td>\n",
       "      <td>3.141959</td>\n",
       "      <td>3.115848</td>\n",
       "    </tr>\n",
       "    <tr>\n",
       "      <th>998</th>\n",
       "      <td>364519500.0</td>\n",
       "      <td>0.169724</td>\n",
       "      <td>0.999674</td>\n",
       "      <td>3.906844</td>\n",
       "      <td>2.249239</td>\n",
       "      <td>3.149393</td>\n",
       "      <td>3.116070</td>\n",
       "    </tr>\n",
       "    <tr>\n",
       "      <th>999</th>\n",
       "      <td>364884750.0</td>\n",
       "      <td>0.172876</td>\n",
       "      <td>0.999680</td>\n",
       "      <td>3.924401</td>\n",
       "      <td>2.347635</td>\n",
       "      <td>3.155905</td>\n",
       "      <td>3.116304</td>\n",
       "    </tr>\n",
       "    <tr>\n",
       "      <th>1000</th>\n",
       "      <td>365250000.0</td>\n",
       "      <td>0.176216</td>\n",
       "      <td>0.999686</td>\n",
       "      <td>3.941905</td>\n",
       "      <td>2.445376</td>\n",
       "      <td>3.161289</td>\n",
       "      <td>3.116545</td>\n",
       "    </tr>\n",
       "  </tbody>\n",
       "</table>\n",
       "<p>1001 rows × 7 columns</p>\n",
       "</div>"
      ],
      "text/plain": [
       "                t         a         e  inclination  lon_asc_node  arg_peri  \\\n",
       "0             0.0  0.199216  0.999725     7.004243      3.446781  3.038623   \n",
       "1        365250.0  0.195514  0.999719     6.944802      3.117013  3.046915   \n",
       "2        730500.0  0.191720  0.999714     6.885835      2.791072  3.056231   \n",
       "3       1095750.0  0.187854  0.999708     6.827553      2.471759  3.066181   \n",
       "4       1461000.0  0.183956  0.999702     6.770065      2.161607  3.076347   \n",
       "...           ...       ...       ...          ...           ...       ...   \n",
       "996   363789000.0  0.164184  0.999663     3.873440      2.056830  3.133826   \n",
       "997   364154250.0  0.166807  0.999669     3.889844      2.152256  3.141959   \n",
       "998   364519500.0  0.169724  0.999674     3.906844      2.249239  3.149393   \n",
       "999   364884750.0  0.172876  0.999680     3.924401      2.347635  3.155905   \n",
       "1000  365250000.0  0.176216  0.999686     3.941905      2.445376  3.161289   \n",
       "\n",
       "      true_anom  \n",
       "0      3.118121  \n",
       "1      3.117900  \n",
       "2      3.117668  \n",
       "3      3.117424  \n",
       "4      3.117170  \n",
       "...         ...  \n",
       "996    3.115643  \n",
       "997    3.115848  \n",
       "998    3.116070  \n",
       "999    3.116304  \n",
       "1000   3.116545  \n",
       "\n",
       "[1001 rows x 7 columns]"
      ]
     },
     "execution_count": 641,
     "metadata": {},
     "output_type": "execute_result"
    }
   ],
   "source": [
    "id000002_EL_df"
   ]
  },
  {
   "cell_type": "markdown",
   "metadata": {},
   "source": [
    "# Save .csv's with relevant data"
   ]
  },
  {
   "cell_type": "code",
   "execution_count": 642,
   "metadata": {},
   "outputs": [],
   "source": [
    "if filename == 'id000002-XV': \n",
    "\n",
    "    id000002_EL_df = pd.DataFrame(\n",
    "        {'t':t,\n",
    "         'a':a,\n",
    "         'e':e,\n",
    "         'inclination':inc,\n",
    "         'lon_asc_node':omega,\n",
    "         'arg_peri':w,\n",
    "         'true_anom':f,\n",
    "        })\n",
    "\n",
    "\n",
    "id000002_EL_df.to_csv(target_path2,header = True)"
   ]
  },
  {
   "cell_type": "code",
   "execution_count": 643,
   "metadata": {},
   "outputs": [],
   "source": [
    "if filename == 'id000003-XV': \n",
    "\n",
    "    id000003_EL_df = pd.DataFrame(\n",
    "        {'t':t,\n",
    "         'a':a,\n",
    "         'e':e,\n",
    "         'inclination':inc,\n",
    "         'lon_asc_node':omega,\n",
    "         'arg_peri':w,\n",
    "         'true_anom':f,\n",
    "        })\n",
    "\n",
    "\n",
    "    id000003_EL_df.to_csv(target_path2,header = True)"
   ]
  },
  {
   "cell_type": "code",
   "execution_count": 644,
   "metadata": {},
   "outputs": [],
   "source": [
    "if filename == 'id000004-XV': \n",
    "\n",
    "    id000004_EL_df = pd.DataFrame(\n",
    "        {'t':t,\n",
    "         'a':a,\n",
    "         'e':e,\n",
    "         'inclination':inc,\n",
    "         'lon_asc_node':omega,\n",
    "         'arg_peri':w,\n",
    "         'true_anom':f,\n",
    "        })\n",
    "\n",
    "\n",
    "    id000004_EL_df.to_csv(target_path2,header = True)"
   ]
  },
  {
   "cell_type": "code",
   "execution_count": 645,
   "metadata": {},
   "outputs": [],
   "source": [
    "if filename == 'id000005-XV': \n",
    "\n",
    "    id000005_EL_df = pd.DataFrame(\n",
    "        {'t':t,\n",
    "         'a':a,\n",
    "         'e':e,\n",
    "         'inclination':inc,\n",
    "         'lon_asc_node':omega,\n",
    "         'arg_peri':w,\n",
    "         'true_anom':f,\n",
    "        })\n",
    "\n",
    "\n",
    "    id000005_EL_df.to_csv(target_path2,header = True)"
   ]
  },
  {
   "cell_type": "code",
   "execution_count": 646,
   "metadata": {},
   "outputs": [],
   "source": [
    "if filename == 'id000006-XV': \n",
    "\n",
    "    id000006_EL_df = pd.DataFrame(\n",
    "        {'t':t,\n",
    "         'a':a,\n",
    "         'e':e,\n",
    "         'inclination':inc,\n",
    "         'lon_asc_node':omega,\n",
    "         'arg_peri':w,\n",
    "         'true_anom':f,\n",
    "        })\n",
    "\n",
    "\n",
    "    id000006_EL_df.to_csv(target_path2,header = True)"
   ]
  },
  {
   "cell_type": "code",
   "execution_count": 647,
   "metadata": {},
   "outputs": [],
   "source": [
    "if filename == 'id000007-XV': \n",
    "\n",
    "    id000007_EL_df = pd.DataFrame(\n",
    "        {'t':t,\n",
    "         'a':a,\n",
    "         'e':e,\n",
    "         'inclination':inc,\n",
    "         'lon_asc_node':omega,\n",
    "         'arg_peri':w,\n",
    "         'true_anom':f,\n",
    "        })\n",
    "\n",
    "\n",
    "    id000007_EL_df.to_csv(target_path2,header = True)"
   ]
  },
  {
   "cell_type": "code",
   "execution_count": 648,
   "metadata": {},
   "outputs": [],
   "source": [
    "if filename == 'id000008-XV': \n",
    "\n",
    "    id000008_EL_df = pd.DataFrame(\n",
    "        {'t':t,\n",
    "         'a':a,\n",
    "         'e':e,\n",
    "         'inclination':inc,\n",
    "         'lon_asc_node':omega,\n",
    "         'arg_peri':w,\n",
    "         'true_anom':f,\n",
    "        })\n",
    "\n",
    "\n",
    "    id000008_EL_df.to_csv(target_path2,header = True)"
   ]
  },
  {
   "cell_type": "code",
   "execution_count": 649,
   "metadata": {},
   "outputs": [],
   "source": [
    "if filename == 'id000009-XV': \n",
    "\n",
    "    id000009_EL_df = pd.DataFrame(\n",
    "        {'t':t,\n",
    "         'a':a,\n",
    "         'e':e,\n",
    "         'inclination':inc,\n",
    "         'lon_asc_node':omega,\n",
    "         'arg_peri':w,\n",
    "         'true_anom':f,\n",
    "        })\n",
    "\n",
    "\n",
    "    id000009_EL_df.to_csv(target_path2,header = True)"
   ]
  },
  {
   "cell_type": "code",
   "execution_count": 650,
   "metadata": {},
   "outputs": [],
   "source": [
    "if filename == 'id000010-XV': \n",
    "\n",
    "    id000010_EL_df = pd.DataFrame(\n",
    "        {'t':t,\n",
    "         'a':a,\n",
    "         'e':e,\n",
    "         'inclination':inc,\n",
    "         'lon_asc_node':omega,\n",
    "         'arg_peri':w,\n",
    "         'true_anom':f,\n",
    "        })\n",
    "\n",
    "\n",
    "    id000010_EL_df.to_csv(target_path2,header = True)"
   ]
  },
  {
   "cell_type": "code",
   "execution_count": 651,
   "metadata": {},
   "outputs": [],
   "source": [
    "#keywords that the next cell will check the filepath contains before it runs plots.\n",
    "substring2 = 'id000002-XV'\n",
    "substring3 = 'id000003-XV'\n",
    "substring4 = 'id000004-XV'\n",
    "substring5 = 'id000005-XV'\n",
    "substring6 = 'id000006-XV'\n",
    "substring7 = 'id000007-XV'\n",
    "substring8 = 'id000008-XV'\n",
    "substring9 = 'id000009-XV'\n",
    "substring10 = 'id000010-XV'\n"
   ]
  },
  {
   "cell_type": "code",
   "execution_count": 652,
   "metadata": {},
   "outputs": [
    {
     "data": {
      "image/png": "[encoded data removed]",
      "text/plain": [
       "<Figure size 432x288 with 1 Axes>"
      ]
     },
     "metadata": {
      "needs_background": "light"
     },
     "output_type": "display_data"
    }
   ],
   "source": [
    "if target_path.find(substring2) != -1:\n",
    "    plt.xlabel('Time [years]', fontsize = 14)\n",
    "    plt.ylabel('semi-major axis [AU]', fontsize = 14)\n",
    "    plt.title('Mercury', fontsize = 15)\n",
    "    plt.plot(id000002_EL_df['t'], id000002_EL_df['a'], c = 'mediumpurple')\n",
    "    plt.savefig(target_path3, dpi = 300, bbox_inches='tight')\n",
    "\n",
    "if target_path.find(substring3) != -1:\n",
    "    plt.xlabel('Time [years]', fontsize = 14)\n",
    "    plt.ylabel('semi-major axis [AU]', fontsize = 14)\n",
    "    plt.title('Venus', fontsize = 15)\n",
    "    plt.plot(id000003_EL_df['t'], id000003_EL_df['a'], c = 'mediumpurple')\n",
    "    plt.savefig(target_path3, dpi = 300, bbox_inches='tight')\n",
    "\n",
    "if target_path.find(substring4) != -1:\n",
    "    plt.xlabel('Time [years]', fontsize = 14)\n",
    "    plt.ylabel('semi-major axis [AU]', fontsize = 14)\n",
    "    plt.title('Earth', fontsize = 15)\n",
    "    plt.plot(id000004_EL_df['t'], id000004_EL_df['a'], c = 'mediumpurple')\n",
    "    plt.savefig(target_path3, dpi = 300, bbox_inches='tight')\n",
    "\n",
    "if target_path.find(substring5) != -1:\n",
    "    plt.xlabel('Time [years]', fontsize = 14)\n",
    "    plt.ylabel('semi-major axis [AU]', fontsize = 14)\n",
    "    plt.title('Mars', fontsize = 15)\n",
    "    plt.plot(id000005_EL_df['t'], id000005_EL_df['a'], c = 'mediumpurple')\n",
    "    plt.savefig(target_path3, dpi = 300, bbox_inches='tight')\n",
    "\n",
    "if target_path.find(substring6) != -1:\n",
    "    plt.xlabel('Time [years]', fontsize = 14)\n",
    "    plt.ylabel('semi-major axis [AU]', fontsize = 14)\n",
    "    plt.title('Jupiter', fontsize = 15)\n",
    "    plt.plot(id000006_EL_df['t'], id000006_EL_df['a'], c = 'mediumpurple')\n",
    "    plt.savefig('/Users/mmijjum/Desktop/third_year/Jupyter_Notebooks/module05-prob04-xv2el-mmijjum/plots/a_vs_t_06.png', dpi = 300, bbox_inches='tight')\n",
    "\n",
    "if target_path.find(substring7) != -1:\n",
    "    plt.xlabel('Time [years]', fontsize = 14)\n",
    "    plt.ylabel('semi-major axis [AU]', fontsize = 14)\n",
    "    plt.title('Saturn', fontsize = 15)\n",
    "    plt.plot(id000007_EL_df['t'], id000007_EL_df['a'], c = 'mediumpurple')\n",
    "    plt.savefig(target_path3, dpi = 300, bbox_inches='tight')\n",
    "\n",
    "if target_path.find(substring8) != -1:\n",
    "    plt.xlabel('Time [years]', fontsize = 14)\n",
    "    plt.ylabel('semi-major axis [AU]', fontsize = 14)\n",
    "    plt.title('Uranus', fontsize = 15)\n",
    "    plt.plot(id000008_EL_df['t'], id000008_EL_df['a'], c = 'mediumpurple')\n",
    "    plt.savefig(target_path3, dpi = 300, bbox_inches='tight')\n",
    "\n",
    "if target_path.find(substring9) != -1:\n",
    "    plt.xlabel('Time [years]', fontsize = 14)\n",
    "    plt.ylabel('semi-major axis [AU]', fontsize = 14)\n",
    "    plt.title('Neptune', fontsize = 15)\n",
    "    plt.plot(id000009_EL_df['t'], id000009_EL_df['a'], c = 'mediumpurple')\n",
    "    plt.savefig(target_path3, dpi = 300, bbox_inches='tight')\n",
    "\n",
    "if target_path.find(substring10) != -1:\n",
    "    plt.xlabel('Time [years]', fontsize = 14)\n",
    "    plt.ylabel('semi-major axis [AU]', fontsize = 14)\n",
    "    plt.title('Pluto', fontsize = 15)\n",
    "    plt.plot(id000010_EL_df['t'], id000010_EL_df['a'], c = 'mediumpurple')\n",
    "    plt.savefig(target_path3, dpi = 300, bbox_inches='tight')\n"
   ]
  },
  {
   "cell_type": "code",
   "execution_count": 653,
   "metadata": {},
   "outputs": [
    {
     "data": {
      "image/png": "[encoded data removed]",
      "text/plain": [
       "<Figure size 432x288 with 1 Axes>"
      ]
     },
     "metadata": {
      "needs_background": "light"
     },
     "output_type": "display_data"
    }
   ],
   "source": [
    "if target_path.find(substring2) != -1:\n",
    "    plt.xlabel('Time [years]', fontsize = 14)\n",
    "    plt.ylabel('semi-major axis [AU]', fontsize = 14)\n",
    "    plt.title('Mercury', fontsize = 15)\n",
    "    plt.plot(id000002_EL_df['t'], id000002_EL_df['inclination'], c = 'teal')\n",
    "    plt.savefig(target_path4, dpi = 300, bbox_inches='tight')\n",
    "\n",
    "if target_path.find(substring3) != -1:\n",
    "    plt.xlabel('Time [years]', fontsize = 14)\n",
    "    plt.ylabel('semi-major axis [AU]', fontsize = 14)\n",
    "    plt.title('Venus', fontsize = 15)\n",
    "    plt.plot(id000003_EL_df['t'], id000003_EL_df['inclination'], c = 'teal')\n",
    "    plt.savefig(target_path4, dpi = 300, bbox_inches='tight')\n",
    "\n",
    "if target_path.find(substring4) != -1:\n",
    "    plt.xlabel('Time [years]', fontsize = 14)\n",
    "    plt.ylabel('semi-major axis [AU]', fontsize = 14)\n",
    "    plt.title('Earth', fontsize = 15)\n",
    "    plt.plot(id000004_EL_df['t'], id000004_EL_df['inclination'], c = 'teal')\n",
    "    plt.savefig(target_path4, dpi = 300, bbox_inches='tight')\n",
    "\n",
    "if target_path.find(substring5) != -1:\n",
    "    plt.xlabel('Time [years]', fontsize = 14)\n",
    "    plt.ylabel('semi-major axis [AU]', fontsize = 14)\n",
    "    plt.title('Mars', fontsize = 15)\n",
    "    plt.plot(id000005_EL_df['t'], id000005_EL_df['inclination'], c = 'teal')\n",
    "    plt.savefig(target_path4, dpi = 300, bbox_inches='tight')\n",
    "\n",
    "if target_path.find(substring6) != -1:\n",
    "    plt.xlabel('Time [years]', fontsize = 14)\n",
    "    plt.ylabel('semi-major axis [AU]', fontsize = 14)\n",
    "    plt.title('Jupiter', fontsize = 15)\n",
    "    plt.plot(id000006_EL_df['t'], id000006_EL_df['inclination'], c = 'teal')\n",
    "    plt.savefig(target_path4, dpi = 300, bbox_inches='tight')\n",
    "\n",
    "if target_path.find(substring7) != -1:\n",
    "    plt.xlabel('Time [years]', fontsize = 14)\n",
    "    plt.ylabel('semi-major axis [AU]', fontsize = 14)\n",
    "    plt.title('Saturn', fontsize = 15)\n",
    "    plt.plot(id000007_EL_df['t'], id000007_EL_df['inclination'], c = 'teal')\n",
    "    plt.savefig(target_path4, dpi = 300, bbox_inches='tight')\n",
    "\n",
    "if target_path.find(substring8) != -1:\n",
    "    plt.xlabel('Time [years]', fontsize = 14)\n",
    "    plt.ylabel('semi-major axis [AU]', fontsize = 14)\n",
    "    plt.title('Uranus', fontsize = 15)\n",
    "    plt.plot(id000008_EL_df['t'], id000008_EL_df['inclination'], c = 'teal')\n",
    "    plt.savefig(target_path4, dpi = 300, bbox_inches='tight')\n",
    "\n",
    "if target_path.find(substring9) != -1:\n",
    "    plt.xlabel('Time [years]', fontsize = 14)\n",
    "    plt.ylabel('semi-major axis [AU]', fontsize = 14)\n",
    "    plt.title('Neptune', fontsize = 15)\n",
    "    plt.plot(id000009_EL_df['t'], id000009_EL_df['inclination'], c = 'teal')\n",
    "    plt.savefig(target_path4, dpi = 300, bbox_inches='tight')\n",
    "\n",
    "if target_path.find(substring10) != -1:\n",
    "    plt.xlabel('Time [years]', fontsize = 14)\n",
    "    plt.ylabel('semi-major axis [AU]', fontsize = 14)\n",
    "    plt.title('Pluto', fontsize = 15)\n",
    "    plt.plot(id000010_EL_df['t'], id000010_EL_df['inclination'], c = 'teal')\n",
    "    plt.savefig(target_path4, dpi = 300, bbox_inches='tight')\n"
   ]
  },
  {
   "cell_type": "code",
   "execution_count": null,
   "metadata": {},
   "outputs": [],
   "source": []
  }
 ],
 "metadata": {
  "kernelspec": {
   "display_name": "Python 3",
   "language": "python",
   "name": "python3"
  },
  "language_info": {
   "codemirror_mode": {
    "name": "ipython",
    "version": 3
   },
   "file_extension": ".py",
   "mimetype": "text/x-python",
   "name": "python",
   "nbconvert_exporter": "python",
   "pygments_lexer": "ipython3",
   "version": "3.8.3"
  }
 },
 "nbformat": 4,
 "nbformat_minor": 4
}
