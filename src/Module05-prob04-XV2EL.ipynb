{
 "cells": [
  {
   "cell_type": "code",
   "execution_count": 82,
   "metadata": {},
   "outputs": [],
   "source": [
    "import numpy as np\n",
    "import matplotlib.pyplot as plt\n",
    "import pandas as pd\n",
    "import os.path\n"
   ]
  },
  {
   "cell_type": "markdown",
   "metadata": {},
   "source": [
    "## Problem 4: \n",
    "- Write a code that converts cartesian coordinate vectors (**r, v**) to orbital elements:\n",
    "    - semimajor axis (a)\n",
    "    - eccentricity (e)\n",
    "    - inclination (I)\n",
    "    - longitude of ascending node ($\\Omega$)\n",
    "    - argument of periapsis ($\\omega$)\n",
    "    - true anomaly (*f*) \n"
   ]
  },
  {
   "cell_type": "code",
   "execution_count": 83,
   "metadata": {},
   "outputs": [],
   "source": [
    "filename = 'id000003-XV' #later cell will use this to assign dataframes for each planet\n",
    "\n",
    "source_path = '/Users/mmijjum/Desktop/third_year/Jupyter_Notebooks/module05-prob04-xv2el-mmijjum/data/module05_data/filename.csv'\n",
    "target_path = source_path.replace(\"/filename.csv\", \"/id000003-XV.csv\", 1) #UPDATE - for reading correct csv INPUTS\n",
    "\n",
    "source_path2 = '/Users/mmijjum/Desktop/third_year/Jupyter_Notebooks/module05-prob04-xv2el-mmijjum/data/filename2.csv'\n",
    "target_path2 = source_path2.replace(\"/filename2.csv\", \"/id000003_EL.csv\", 1) #UPDATE - for saving csv OUTPUTS\n",
    "\n",
    "source_path3 = '/Users/mmijjum/Desktop/third_year/Jupyter_Notebooks/module05-prob04-xv2el-mmijjum/plots/filename3.png'\n",
    "target_path3 = source_path3.replace(\"/filename3.png\", \"/a_vs_t_03.png\", 1) #UPDATE - for saving a vs t plots\n",
    "\n",
    "source_path4 = '/Users/mmijjum/Desktop/third_year/Jupyter_Notebooks/module05-prob04-xv2el-mmijjum/plots/filename4.png'\n",
    "target_path4 = source_path3.replace(\"/filename4.png\", \"/i_vs_t_03.png\", 1) #UPDATE - for saving i vs t plots\n",
    "\n",
    "#Mercury:id000002-XV\n",
    "#Venus:id000003-XV\n",
    "#Earth:id000004-XV\n",
    "#Mercury:id000005-XV\n",
    "#Jupiter:id000006-XV\n",
    "#Saturn:id000007-XV\n",
    "#Uranus:id000008-XV\n",
    "#Neptune:id000009-XV\n",
    "#Pluto:id000010-XV"
   ]
  },
  {
   "cell_type": "code",
   "execution_count": 84,
   "metadata": {},
   "outputs": [],
   "source": [
    "##From here, cell > run all\" "
   ]
  },
  {
   "cell_type": "code",
   "execution_count": 85,
   "metadata": {},
   "outputs": [],
   "source": [
    "df = pd.DataFrame(pd.read_csv(target_path))"
   ]
  },
  {
   "cell_type": "code",
   "execution_count": 86,
   "metadata": {},
   "outputs": [
    {
     "data": {
      "text/plain": [
       "1001"
      ]
     },
     "execution_count": 86,
     "metadata": {},
     "output_type": "execute_result"
    }
   ],
   "source": [
    "x = df['xh']\n",
    "y = df['yh']\n",
    "z = df['zh']\n",
    "\n",
    "vx = df['vxh']\n",
    "vy = df['vyh']\n",
    "vz = df['vz']\n",
    "\n",
    "t = df[' t'] #note, .csv had a space before 't' so had to include this so it knew which header to call.\n",
    "t = t.values.tolist()\n",
    "hvector = []\n",
    "for i in range(len(x)):\n",
    "    rvector = [x[i],y[i],z[i]]\n",
    "    vvector = [vx[i],vy[i],vz[i]]\n",
    "\n",
    "    htemp = np.cross(rvector,vvector)\n",
    "    hvector.append(htemp)\n",
    "\n",
    "h_df = pd.DataFrame(hvector)\n",
    "\n",
    "hx = h_df[0]\n",
    "hy = h_df[1]\n",
    "hz = h_df[2]\n",
    "h = []\n",
    "for i in range(len(hx)):\n",
    "    htemp = np.sqrt(hx[i]**2 + hy[i]**2 + hz[i]**2)\n",
    "    h.append(htemp)\n",
    "len(h)"
   ]
  },
  {
   "cell_type": "code",
   "execution_count": 87,
   "metadata": {},
   "outputs": [],
   "source": [
    "r = []\n",
    "v = []\n",
    "for i in range(len(df)):\n",
    "    rtemp = np.sqrt(x.iloc[i]**2 + y.iloc[i]**2 +z.iloc[i]**2)\n",
    "    vtemp = np.sqrt(vx.iloc[i]**2 + vy.iloc[i]**2 + vz.iloc[i]**2)\n",
    "    r.append(rtemp)\n",
    "    v.append(vtemp)\n",
    "#r\n",
    "#v"
   ]
  },
  {
   "cell_type": "code",
   "execution_count": 88,
   "metadata": {},
   "outputs": [],
   "source": [
    "#Semimajor axis (a)\n",
    "G = 6.67428 * 10**(-11) #m3/kg s2\n",
    "M = 1.9891 * 10**(30) #kg\n",
    "mu = 1\n",
    "a = []\n",
    "\n",
    "for i in range(len(r)):\n",
    "    atemp = ((2/r[i]) - (v[i]**2/mu))**(-1) #eqn 2.134 \n",
    "    a.append(atemp)\n",
    "#a"
   ]
  },
  {
   "cell_type": "code",
   "execution_count": 89,
   "metadata": {},
   "outputs": [],
   "source": [
    "#eccentricity\n",
    "e = []\n",
    "for i in range(len(a)):\n",
    "    etemp = np.sqrt(1 - (h[i]**2/(mu*a[i])))\n",
    "    e.append(etemp)"
   ]
  },
  {
   "cell_type": "code",
   "execution_count": 90,
   "metadata": {},
   "outputs": [
    {
     "data": {
      "text/plain": [
       "array([3.39466895, 3.38267337, 3.36429064, ..., 1.20136629, 1.26632867,\n",
       "       1.33310386])"
      ]
     },
     "execution_count": 90,
     "metadata": {},
     "output_type": "execute_result"
    }
   ],
   "source": [
    "#Inclination\n",
    "inc = []\n",
    "for i in range(len(h)):\n",
    "    inctemp = np.arccos((hz[i]/h[i]))\n",
    "    inc.append(inctemp)\n",
    "inc = np.rad2deg(inc)\n",
    "inc"
   ]
  },
  {
   "cell_type": "code",
   "execution_count": 91,
   "metadata": {},
   "outputs": [],
   "source": [
    "#longitude of ascending node\n",
    "omega = []\n",
    "for i in range(len(hx)):\n",
    "    omegatemp = np.arcsin(hx[i]/h[i] * np.sin(inc[i]))\n",
    "    omega.append(omegatemp)\n",
    "omega = np.rad2deg(omega)"
   ]
  },
  {
   "cell_type": "code",
   "execution_count": 92,
   "metadata": {},
   "outputs": [],
   "source": [
    "#true anomaly (f)\n",
    "f = []\n",
    "for i in range(len(a)):\n",
    "    ftemp = np.arccos((1/e[i]) * ((a[i]*(1-e[i]**2))/r[i]) - 1)\n",
    "    f.append(ftemp)"
   ]
  },
  {
   "cell_type": "code",
   "execution_count": 93,
   "metadata": {},
   "outputs": [],
   "source": [
    "# argument of periapsis\n",
    "w = []\n",
    "for i in range(len(f)):\n",
    "    wtemp = np.arcsin(z.tolist()[i]/r[i]*np.sin(inc[i])) + f[i]\n",
    "    w.append(wtemp)"
   ]
  },
  {
   "cell_type": "code",
   "execution_count": 94,
   "metadata": {},
   "outputs": [
    {
     "data": {
      "text/plain": [
       "'id000003-XV'"
      ]
     },
     "execution_count": 94,
     "metadata": {},
     "output_type": "execute_result"
    }
   ],
   "source": [
    "filename"
   ]
  },
  {
   "cell_type": "markdown",
   "metadata": {},
   "source": [
    "# Save .csv's with relevant data"
   ]
  },
  {
   "cell_type": "code",
   "execution_count": 95,
   "metadata": {},
   "outputs": [],
   "source": [
    "if filename == 'id000002-XV': \n",
    "\n",
    "    id000002_EL_df = pd.DataFrame(\n",
    "        {'t':t,\n",
    "         'a':a,\n",
    "         'e':e,\n",
    "         'inclination':inc,\n",
    "         'lon_asc_node':omega,\n",
    "         'arg_peri':w,\n",
    "         'true_anom':f,\n",
    "        })\n",
    "\n",
    "\n",
    "id000002_EL_df.to_csv('target_path2',header = True)"
   ]
  },
  {
   "cell_type": "code",
   "execution_count": 96,
   "metadata": {},
   "outputs": [],
   "source": [
    "if filename == 'id000003-XV': \n",
    "\n",
    "    id000003_EL_df = pd.DataFrame(\n",
    "        {'t':t,\n",
    "         'a':a,\n",
    "         'e':e,\n",
    "         'inclination':inc,\n",
    "         'lon_asc_node':omega,\n",
    "         'arg_peri':w,\n",
    "         'true_anom':f,\n",
    "        })\n",
    "\n",
    "\n",
    "    id000003_EL_df.to_csv('target_path2',header = True)"
   ]
  },
  {
   "cell_type": "code",
   "execution_count": 97,
   "metadata": {},
   "outputs": [],
   "source": [
    "if filename == 'id000004-XV': \n",
    "\n",
    "    id000004_EL_df = pd.DataFrame(\n",
    "        {'t':t,\n",
    "         'a':a,\n",
    "         'e':e,\n",
    "         'inclination':inc,\n",
    "         'lon_asc_node':omega,\n",
    "         'arg_peri':w,\n",
    "         'true_anom':f,\n",
    "        })\n",
    "\n",
    "\n",
    "    id000004_EL_df.to_csv('target_path2',header = True)"
   ]
  },
  {
   "cell_type": "code",
   "execution_count": 98,
   "metadata": {},
   "outputs": [],
   "source": [
    "if filename == 'id000005-XV': \n",
    "\n",
    "    id000005_EL_df = pd.DataFrame(\n",
    "        {'t':t,\n",
    "         'a':a,\n",
    "         'e':e,\n",
    "         'inclination':inc,\n",
    "         'lon_asc_node':omega,\n",
    "         'arg_peri':w,\n",
    "         'true_anom':f,\n",
    "        })\n",
    "\n",
    "\n",
    "    id000005_EL_df.to_csv('target_path2',header = True)"
   ]
  },
  {
   "cell_type": "code",
   "execution_count": 99,
   "metadata": {},
   "outputs": [],
   "source": [
    "if filename == 'id000006-XV': \n",
    "\n",
    "    id000006_EL_df = pd.DataFrame(\n",
    "        {'t':t,\n",
    "         'a':a,\n",
    "         'e':e,\n",
    "         'inclination':inc,\n",
    "         'lon_asc_node':omega,\n",
    "         'arg_peri':w,\n",
    "         'true_anom':f,\n",
    "        })\n",
    "\n",
    "\n",
    "    id000006_EL_df.to_csv('target_path2',header = True)"
   ]
  },
  {
   "cell_type": "code",
   "execution_count": 100,
   "metadata": {},
   "outputs": [],
   "source": [
    "if filename == 'id000007-XV': \n",
    "\n",
    "    id000007_EL_df = pd.DataFrame(\n",
    "        {'t':t,\n",
    "         'a':a,\n",
    "         'e':e,\n",
    "         'inclination':inc,\n",
    "         'lon_asc_node':omega,\n",
    "         'arg_peri':w,\n",
    "         'true_anom':f,\n",
    "        })\n",
    "\n",
    "\n",
    "    id000007_EL_df.to_csv('target_path2',header = True)"
   ]
  },
  {
   "cell_type": "code",
   "execution_count": 101,
   "metadata": {},
   "outputs": [],
   "source": [
    "if filename == 'id000008-XV': \n",
    "\n",
    "    id000008_EL_df = pd.DataFrame(\n",
    "        {'t':t,\n",
    "         'a':a,\n",
    "         'e':e,\n",
    "         'inclination':inc,\n",
    "         'lon_asc_node':omega,\n",
    "         'arg_peri':w,\n",
    "         'true_anom':f,\n",
    "        })\n",
    "\n",
    "\n",
    "    id000008_EL_df.to_csv('target_path2',header = True)"
   ]
  },
  {
   "cell_type": "code",
   "execution_count": 102,
   "metadata": {},
   "outputs": [],
   "source": [
    "if filename == 'id000009-XV': \n",
    "\n",
    "    id000009_EL_df = pd.DataFrame(\n",
    "        {'t':t,\n",
    "         'a':a,\n",
    "         'e':e,\n",
    "         'inclination':inc,\n",
    "         'lon_asc_node':omega,\n",
    "         'arg_peri':w,\n",
    "         'true_anom':f,\n",
    "        })\n",
    "\n",
    "\n",
    "    id000009_EL_df.to_csv('target_path2',header = True)"
   ]
  },
  {
   "cell_type": "code",
   "execution_count": 103,
   "metadata": {},
   "outputs": [],
   "source": [
    "if filename == 'id000010-XV': \n",
    "\n",
    "    id000010_EL_df = pd.DataFrame(\n",
    "        {'t':t,\n",
    "         'a':a,\n",
    "         'e':e,\n",
    "         'inclination':inc,\n",
    "         'lon_asc_node':omega,\n",
    "         'arg_peri':w,\n",
    "         'true_anom':f,\n",
    "        })\n",
    "\n",
    "\n",
    "    id000010_EL_df.to_csv('target_path2',header = True)"
   ]
  },
  {
   "cell_type": "code",
   "execution_count": 104,
   "metadata": {},
   "outputs": [],
   "source": [
    "#keywords that the next cell will check the filepath contains before it runs plots.\n",
    "substring2 = 'id000002-XV'\n",
    "substring3 = 'id000003-XV'\n",
    "substring4 = 'id000004-XV'\n",
    "substring5 = 'id000005-XV'\n",
    "substring6 = 'id000006-XV'\n",
    "substring7 = 'id000007-XV'\n",
    "substring8 = 'id000008-XV'\n",
    "substring9 = 'id000009-XV'\n",
    "substring10 = 'id000010-XV'\n"
   ]
  },
  {
   "cell_type": "code",
   "execution_count": 105,
   "metadata": {},
   "outputs": [
    {
     "data": {
      "image/png": "[encoded data removed]",
      "text/plain": [
       "<Figure size 432x288 with 1 Axes>"
      ]
     },
     "metadata": {
      "needs_background": "light"
     },
     "output_type": "display_data"
    }
   ],
   "source": [
    "if target_path.find(substring2) != -1:\n",
    "    plt.xlabel('Time [years]', fontsize = 14)\n",
    "    plt.ylabel('semi-major axis [AU]', fontsize = 14)\n",
    "    plt.title('Mercury', fontsize = 15)\n",
    "    plt.plot(id000002_EL_df['t'], id000002_EL_df['a'], c = 'mediumpurple')\n",
    "    plt.savefig(target_path3, dpi = 300, bbox_inches='tight')\n",
    "\n",
    "if target_path.find(substring3) != -1:\n",
    "    plt.xlabel('Time [years]', fontsize = 14)\n",
    "    plt.ylabel('semi-major axis [AU]', fontsize = 14)\n",
    "    plt.title('Venus', fontsize = 15)\n",
    "    plt.plot(id000003_EL_df['t'], id000003_EL_df['a'], c = 'mediumpurple')\n",
    "    plt.savefig(target_path3, dpi = 300, bbox_inches='tight')\n",
    "\n",
    "if target_path.find(substring4) != -1:\n",
    "    plt.xlabel('Time [years]', fontsize = 14)\n",
    "    plt.ylabel('semi-major axis [AU]', fontsize = 14)\n",
    "    plt.title('Earth', fontsize = 15)\n",
    "    plt.plot(id000004_EL_df['t'], id000004_EL_df['a'], c = 'mediumpurple')\n",
    "    plt.savefig(target_path3, dpi = 300, bbox_inches='tight')\n",
    "\n",
    "if target_path.find(substring5) != -1:\n",
    "    plt.xlabel('Time [years]', fontsize = 14)\n",
    "    plt.ylabel('semi-major axis [AU]', fontsize = 14)\n",
    "    plt.title('Mars', fontsize = 15)\n",
    "    plt.plot(id000005_EL_df['t'], id000005_EL_df['a'], c = 'mediumpurple')\n",
    "    plt.savefig(target_path3, dpi = 300, bbox_inches='tight')\n",
    "\n",
    "if target_path.find(substring6) != -1:\n",
    "    plt.xlabel('Time [years]', fontsize = 14)\n",
    "    plt.ylabel('semi-major axis [AU]', fontsize = 14)\n",
    "    plt.title('Jupiter', fontsize = 15)\n",
    "    plt.plot(id000006_EL_df['t'], id000006_EL_df['a'], c = 'mediumpurple')\n",
    "    plt.savefig('/Users/mmijjum/Desktop/third_year/Jupyter_Notebooks/module05-prob04-xv2el-mmijjum/plots/a_vs_t_06.png', dpi = 300, bbox_inches='tight')\n",
    "\n",
    "if target_path.find(substring7) != -1:\n",
    "    plt.xlabel('Time [years]', fontsize = 14)\n",
    "    plt.ylabel('semi-major axis [AU]', fontsize = 14)\n",
    "    plt.title('Saturn', fontsize = 15)\n",
    "    plt.plot(id000007_EL_df['t'], id000007_EL_df['a'], c = 'mediumpurple')\n",
    "    plt.savefig(target_path3, dpi = 300, bbox_inches='tight')\n",
    "\n",
    "if target_path.find(substring8) != -1:\n",
    "    plt.xlabel('Time [years]', fontsize = 14)\n",
    "    plt.ylabel('semi-major axis [AU]', fontsize = 14)\n",
    "    plt.title('Uranus', fontsize = 15)\n",
    "    plt.plot(id000008_EL_df['t'], id000008_EL_df['a'], c = 'mediumpurple')\n",
    "    plt.savefig(target_path3, dpi = 300, bbox_inches='tight')\n",
    "\n",
    "if target_path.find(substring9) != -1:\n",
    "    plt.xlabel('Time [years]', fontsize = 14)\n",
    "    plt.ylabel('semi-major axis [AU]', fontsize = 14)\n",
    "    plt.title('Neptune', fontsize = 15)\n",
    "    plt.plot(id000009_EL_df['t'], id000009_EL_df['a'], c = 'mediumpurple')\n",
    "    plt.savefig(target_path3, dpi = 300, bbox_inches='tight')\n",
    "\n",
    "if target_path.find(substring10) != -1:\n",
    "    plt.xlabel('Time [years]', fontsize = 14)\n",
    "    plt.ylabel('semi-major axis [AU]', fontsize = 14)\n",
    "    plt.title('Pluto', fontsize = 15)\n",
    "    plt.plot(id000010_EL_df['t'], id000010_EL_df['a'], c = 'mediumpurple')\n",
    "    plt.savefig(target_path3, dpi = 300, bbox_inches='tight')\n"
   ]
  },
  {
   "cell_type": "code",
   "execution_count": 106,
   "metadata": {},
   "outputs": [
    {
     "data": {
      "image/png": "[encoded data removed]",
      "text/plain": [
       "<Figure size 432x288 with 1 Axes>"
      ]
     },
     "metadata": {
      "needs_background": "light"
     },
     "output_type": "display_data"
    }
   ],
   "source": [
    "if target_path.find(substring2) != -1:\n",
    "    plt.xlabel('Time [years]', fontsize = 14)\n",
    "    plt.ylabel('semi-major axis [AU]', fontsize = 14)\n",
    "    plt.title('Mercury', fontsize = 15)\n",
    "    plt.plot(id000002_EL_df['t'], id000002_EL_df['inclination'], c = 'teal')\n",
    "    plt.savefig(target_path4, dpi = 300, bbox_inches='tight')\n",
    "\n",
    "if target_path.find(substring3) != -1:\n",
    "    plt.xlabel('Time [years]', fontsize = 14)\n",
    "    plt.ylabel('semi-major axis [AU]', fontsize = 14)\n",
    "    plt.title('Venus', fontsize = 15)\n",
    "    plt.plot(id000003_EL_df['t'], id000003_EL_df['inclination'], c = 'teal')\n",
    "    plt.savefig(target_path4, dpi = 300, bbox_inches='tight')\n",
    "\n",
    "if target_path.find(substring4) != -1:\n",
    "    plt.xlabel('Time [years]', fontsize = 14)\n",
    "    plt.ylabel('semi-major axis [AU]', fontsize = 14)\n",
    "    plt.title('Earth', fontsize = 15)\n",
    "    plt.plot(id000004_EL_df['t'], id000004_EL_df['inclination'], c = 'teal')\n",
    "    plt.savefig(target_path4, dpi = 300, bbox_inches='tight')\n",
    "\n",
    "if target_path.find(substring5) != -1:\n",
    "    plt.xlabel('Time [years]', fontsize = 14)\n",
    "    plt.ylabel('semi-major axis [AU]', fontsize = 14)\n",
    "    plt.title('Mars', fontsize = 15)\n",
    "    plt.plot(id000005_EL_df['t'], id000005_EL_df['inclination'], c = 'teal')\n",
    "    plt.savefig(target_path4, dpi = 300, bbox_inches='tight')\n",
    "\n",
    "if target_path.find(substring6) != -1:\n",
    "    plt.xlabel('Time [years]', fontsize = 14)\n",
    "    plt.ylabel('semi-major axis [AU]', fontsize = 14)\n",
    "    plt.title('Jupiter', fontsize = 15)\n",
    "    plt.plot(id000006_EL_df['t'], id000006_EL_df['inclination'], c = 'teal')\n",
    "    plt.savefig(target_path4, dpi = 300, bbox_inches='tight')\n",
    "\n",
    "if target_path.find(substring7) != -1:\n",
    "    plt.xlabel('Time [years]', fontsize = 14)\n",
    "    plt.ylabel('semi-major axis [AU]', fontsize = 14)\n",
    "    plt.title('Saturn', fontsize = 15)\n",
    "    plt.plot(id000007_EL_df['t'], id000007_EL_df['inclination'], c = 'teal')\n",
    "    plt.savefig(target_path4, dpi = 300, bbox_inches='tight')\n",
    "\n",
    "if target_path.find(substring8) != -1:\n",
    "    plt.xlabel('Time [years]', fontsize = 14)\n",
    "    plt.ylabel('semi-major axis [AU]', fontsize = 14)\n",
    "    plt.title('Uranus', fontsize = 15)\n",
    "    plt.plot(id000008_EL_df['t'], id000008_EL_df['inclination'], c = 'teal')\n",
    "    plt.savefig(target_path4, dpi = 300, bbox_inches='tight')\n",
    "\n",
    "if target_path.find(substring9) != -1:\n",
    "    plt.xlabel('Time [years]', fontsize = 14)\n",
    "    plt.ylabel('semi-major axis [AU]', fontsize = 14)\n",
    "    plt.title('Neptune', fontsize = 15)\n",
    "    plt.plot(id000009_EL_df['t'], id000009_EL_df['inclination'], c = 'teal')\n",
    "    plt.savefig(target_path4, dpi = 300, bbox_inches='tight')\n",
    "\n",
    "if target_path.find(substring10) != -1:\n",
    "    plt.xlabel('Time [years]', fontsize = 14)\n",
    "    plt.ylabel('semi-major axis [AU]', fontsize = 14)\n",
    "    plt.title('Pluto', fontsize = 15)\n",
    "    plt.plot(id000010_EL_df['t'], id000010_EL_df['inclination'], c = 'teal')\n",
    "    plt.savefig(target_path4, dpi = 300, bbox_inches='tight')\n"
   ]
  }
 ],
 "metadata": {
  "kernelspec": {
   "display_name": "Python 3",
   "language": "python",
   "name": "python3"
  },
  "language_info": {
   "codemirror_mode": {
    "name": "ipython",
    "version": 3
   },
   "file_extension": ".py",
   "mimetype": "text/x-python",
   "name": "python",
   "nbconvert_exporter": "python",
   "pygments_lexer": "ipython3",
   "version": "3.8.3"
  }
 },
 "nbformat": 4,
 "nbformat_minor": 4
}
